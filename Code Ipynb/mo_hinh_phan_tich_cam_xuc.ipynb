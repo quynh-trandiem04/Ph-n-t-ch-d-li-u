{
 "cells": [
  {
   "cell_type": "code",
   "execution_count": 1,
   "id": "ed3e5720",
   "metadata": {},
   "outputs": [
    {
     "ename": "ModuleNotFoundError",
     "evalue": "No module named 'underthesea'",
     "output_type": "error",
     "traceback": [
      "\u001b[31m---------------------------------------------------------------------------\u001b[39m",
      "\u001b[31mModuleNotFoundError\u001b[39m                       Traceback (most recent call last)",
      "\u001b[36mCell\u001b[39m\u001b[36m \u001b[39m\u001b[32mIn[1]\u001b[39m\u001b[32m, line 3\u001b[39m\n\u001b[32m      1\u001b[39m \u001b[38;5;28;01mimport\u001b[39;00m\u001b[38;5;250m \u001b[39m\u001b[34;01mpandas\u001b[39;00m\u001b[38;5;250m \u001b[39m\u001b[38;5;28;01mas\u001b[39;00m\u001b[38;5;250m \u001b[39m\u001b[34;01mpd\u001b[39;00m\n\u001b[32m      2\u001b[39m \u001b[38;5;28;01mimport\u001b[39;00m\u001b[38;5;250m \u001b[39m\u001b[34;01mmatplotlib\u001b[39;00m\u001b[34;01m.\u001b[39;00m\u001b[34;01mpyplot\u001b[39;00m\u001b[38;5;250m \u001b[39m\u001b[38;5;28;01mas\u001b[39;00m\u001b[38;5;250m \u001b[39m\u001b[34;01mplt\u001b[39;00m\n\u001b[32m----> \u001b[39m\u001b[32m3\u001b[39m \u001b[38;5;28;01mfrom\u001b[39;00m\u001b[38;5;250m \u001b[39m\u001b[34;01munderthesea\u001b[39;00m\u001b[38;5;250m \u001b[39m\u001b[38;5;28;01mimport\u001b[39;00m word_tokenize\n\u001b[32m      4\u001b[39m \u001b[38;5;28;01mfrom\u001b[39;00m\u001b[38;5;250m \u001b[39m\u001b[34;01msklearn\u001b[39;00m\u001b[34;01m.\u001b[39;00m\u001b[34;01mfeature_extraction\u001b[39;00m\u001b[34;01m.\u001b[39;00m\u001b[34;01mtext\u001b[39;00m\u001b[38;5;250m \u001b[39m\u001b[38;5;28;01mimport\u001b[39;00m TfidfVectorizer\n\u001b[32m      5\u001b[39m \u001b[38;5;28;01mfrom\u001b[39;00m\u001b[38;5;250m \u001b[39m\u001b[34;01msklearn\u001b[39;00m\u001b[34;01m.\u001b[39;00m\u001b[34;01mdecomposition\u001b[39;00m\u001b[38;5;250m \u001b[39m\u001b[38;5;28;01mimport\u001b[39;00m LatentDirichletAllocation\n",
      "\u001b[31mModuleNotFoundError\u001b[39m: No module named 'underthesea'"
     ]
    }
   ],
   "source": [
    "import pandas as pd\n",
    "import matplotlib.pyplot as plt\n",
    "from underthesea import word_tokenize\n",
    "from sklearn.feature_extraction.text import TfidfVectorizer\n",
    "from sklearn.decomposition import LatentDirichletAllocation\n",
    "import re\n",
    "import numpy as np\n",
    "\n",
    "# Đọc dữ liệu và tiền xử lý (từ mã của bạn)\n",
    "df = pd.read_csv('cleaned_comment_data.csv')\n",
    "df['text'] = df['title'].fillna('') + ' ' + df['content'].fillna('')\n",
    "\n",
    "stopwords = set(['được', 'thì', 'có', 'mình', 'là', 'nên', 'ko', 'không', 'và', 'kì', 'cực'])\n",
    "\n",
    "def preprocess_text(text):\n",
    "    text = text.lower()\n",
    "    text = re.sub(r'[^\\w\\s]', '', text)\n",
    "    tokens = word_tokenize(text)\n",
    "    tokens = [t for t in tokens if t not in stopwords]\n",
    "    return ' '.join(tokens)\n",
    "\n",
    "df['text_cleaned'] = df['text'].apply(preprocess_text)\n",
    "\n",
    "# Tạo cột sentiment\n",
    "def map_sentiment(rating):\n",
    "    if rating >= 4:\n",
    "        return 'Tích cực'\n",
    "    elif rating == 3:\n",
    "        return 'Trung tính'\n",
    "    else:\n",
    "        return 'Tiêu cực'\n",
    "\n",
    "df['sentiment'] = df['rating'].apply(map_sentiment)\n",
    "\n",
    "# Chuyển đổi văn bản thành TF-IDF\n",
    "vectorizer = TfidfVectorizer(max_features=5000, max_df=0.8, min_df=5)\n",
    "X = vectorizer.fit_transform(df['text_cleaned'])\n",
    "\n",
    "# Áp dụng LDA\n",
    "n_topics = 5\n",
    "lda = LatentDirichletAllocation(n_components=n_topics, random_state=42)\n",
    "lda.fit(X)\n",
    "\n",
    "# Gán chủ đề chính cho mỗi bình luận\n",
    "topic_dist = lda.transform(X)\n",
    "df['main_topic'] = topic_dist.argmax(axis=1) + 1  # Chủ đề từ 1 đến n_topics\n",
    "\n",
    "# Hiển thị từ khóa cho mỗi chủ đề\n",
    "feature_names = vectorizer.get_feature_names_out()\n",
    "print(\"Từ khóa của các chủ đề:\")\n",
    "for topic_idx, topic in enumerate(lda.components_):\n",
    "    top_words = [feature_names[i] for i in topic.argsort()[-15:]]\n",
    "    print(f\"Chủ đề {topic_idx + 1}: {', '.join(top_words)}\")\n",
    "\n",
    "# Phân tích cảm xúc theo chủ đề\n",
    "topic_sentiment = df.groupby(['main_topic', 'sentiment']).size().unstack(fill_value=0)\n",
    "topic_sentiment['Tổng'] = topic_sentiment.sum(axis=1)\n",
    "for sentiment in ['Tích cực', 'Trung tính', 'Tiêu cực']:\n",
    "    topic_sentiment[f'{sentiment} (%)'] = (topic_sentiment[sentiment] / topic_sentiment['Tổng'] * 100).round(2)\n",
    "\n",
    "# In kết quả dễ đọc\n",
    "print(\"\\nPhân bố cảm xúc theo chủ đề:\")\n",
    "print(topic_sentiment[['Tích cực', 'Trung tính', 'Tiêu cực', 'Tích cực (%)', 'Trung tính (%)', 'Tiêu cực (%)']])\n",
    "\n",
    "# Vẽ biểu đồ\n",
    "topic_sentiment[['Tích cực', 'Trung tính', 'Tiêu cực']].plot(kind='bar', stacked=True, figsize=(10, 6))\n",
    "plt.title('Phân bố cảm xúc theo chủ đề')\n",
    "plt.xlabel('Chủ đề')\n",
    "plt.ylabel('Số lượng bình luận')\n",
    "plt.legend(title='Cảm xúc')\n",
    "plt.xticks(rotation=0)\n",
    "plt.tight_layout()\n",
    "plt.show()"
   ]
  }
 ],
 "metadata": {
  "kernelspec": {
   "display_name": "Python 3",
   "language": "python",
   "name": "python3"
  },
  "language_info": {
   "codemirror_mode": {
    "name": "ipython",
    "version": 3
   },
   "file_extension": ".py",
   "mimetype": "text/x-python",
   "name": "python",
   "nbconvert_exporter": "python",
   "pygments_lexer": "ipython3",
   "version": "3.13.2"
  }
 },
 "nbformat": 4,
 "nbformat_minor": 5
}
